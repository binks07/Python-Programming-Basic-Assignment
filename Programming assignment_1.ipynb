{
 "cells": [
  {
   "cell_type": "code",
   "execution_count": 1,
   "id": "fdc1c9d9",
   "metadata": {},
   "outputs": [
    {
     "name": "stdout",
     "output_type": "stream",
     "text": [
      "Hello Python\n"
     ]
    }
   ],
   "source": [
    "#1\n",
    "print(\"Hello Python\")"
   ]
  },
  {
   "cell_type": "code",
   "execution_count": 2,
   "id": "34ae92e6",
   "metadata": {},
   "outputs": [
    {
     "name": "stdout",
     "output_type": "stream",
     "text": [
      "12 3.0\n"
     ]
    }
   ],
   "source": [
    "#2\n",
    "a= 8+4\n",
    "s = 9/3\n",
    "print(k,s)"
   ]
  },
  {
   "cell_type": "code",
   "execution_count": 4,
   "id": "deacb2e5",
   "metadata": {},
   "outputs": [
    {
     "name": "stdout",
     "output_type": "stream",
     "text": [
      "enter height of triangle10\n",
      "enter base of triangle5\n",
      "Area of triangle is: 25.0\n"
     ]
    }
   ],
   "source": [
    "#3\n",
    "h=float(input(\"enter height of triangle\"))\n",
    "b=float(input(\"enter base of triangle\"))\n",
    "a= (0.5)*h*b\n",
    "print(\"Area of triangle is: \"+str(a))"
   ]
  },
  {
   "cell_type": "code",
   "execution_count": 5,
   "id": "8baee4a6",
   "metadata": {},
   "outputs": [
    {
     "name": "stdout",
     "output_type": "stream",
     "text": [
      "enter 1st variablen\n",
      "enter 2nd variablei\n",
      "i n\n"
     ]
    }
   ],
   "source": [
    "#4\n",
    "a=input(\"enter 1st variable\")\n",
    "b=input(\"enter 2nd variable\")\n",
    "a,b=b,a\n",
    "print(a,b)"
   ]
  },
  {
   "cell_type": "code",
   "execution_count": 10,
   "id": "04a75a35",
   "metadata": {},
   "outputs": [
    {
     "name": "stdout",
     "output_type": "stream",
     "text": [
      "53\n"
     ]
    }
   ],
   "source": [
    "#5\n",
    "import random\n",
    "n = random.randint(0,100)\n",
    "print(n)"
   ]
  },
  {
   "cell_type": "code",
   "execution_count": null,
   "id": "fcd79cdb",
   "metadata": {},
   "outputs": [],
   "source": []
  }
 ],
 "metadata": {
  "kernelspec": {
   "display_name": "Python 3 (ipykernel)",
   "language": "python",
   "name": "python3"
  },
  "language_info": {
   "codemirror_mode": {
    "name": "ipython",
    "version": 3
   },
   "file_extension": ".py",
   "mimetype": "text/x-python",
   "name": "python",
   "nbconvert_exporter": "python",
   "pygments_lexer": "ipython3",
   "version": "3.9.7"
  }
 },
 "nbformat": 4,
 "nbformat_minor": 5
}
